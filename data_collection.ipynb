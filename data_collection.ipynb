{
 "cells": [
  {
   "cell_type": "code",
   "execution_count": 2,
   "metadata": {},
   "outputs": [],
   "source": [
    "import pandas as pd"
   ]
  },
  {
   "cell_type": "code",
   "execution_count": 3,
   "metadata": {},
   "outputs": [],
   "source": [
    "df = pd.read_csv('data_result.csv')"
   ]
  },
  {
   "cell_type": "code",
   "execution_count": 4,
   "metadata": {},
   "outputs": [
    {
     "data": {
      "text/html": [
       "<div>\n",
       "<style scoped>\n",
       "    .dataframe tbody tr th:only-of-type {\n",
       "        vertical-align: middle;\n",
       "    }\n",
       "\n",
       "    .dataframe tbody tr th {\n",
       "        vertical-align: top;\n",
       "    }\n",
       "\n",
       "    .dataframe thead th {\n",
       "        text-align: right;\n",
       "    }\n",
       "</style>\n",
       "<table border=\"1\" class=\"dataframe\">\n",
       "  <thead>\n",
       "    <tr style=\"text-align: right;\">\n",
       "      <th></th>\n",
       "      <th>Candidate</th>\n",
       "      <th>Channel</th>\n",
       "      <th>Sentimental_Title</th>\n",
       "      <th>Sentimental_Comment</th>\n",
       "    </tr>\n",
       "  </thead>\n",
       "  <tbody>\n",
       "    <tr>\n",
       "      <th>0</th>\n",
       "      <td>Progressive</td>\n",
       "      <td>Conservative</td>\n",
       "      <td>-41.008209</td>\n",
       "      <td>-9.086078</td>\n",
       "    </tr>\n",
       "    <tr>\n",
       "      <th>1</th>\n",
       "      <td>Progressive</td>\n",
       "      <td>Conservative</td>\n",
       "      <td>-34.345371</td>\n",
       "      <td>-10.547565</td>\n",
       "    </tr>\n",
       "    <tr>\n",
       "      <th>2</th>\n",
       "      <td>Progressive</td>\n",
       "      <td>Conservative</td>\n",
       "      <td>-45.388231</td>\n",
       "      <td>-10.973102</td>\n",
       "    </tr>\n",
       "    <tr>\n",
       "      <th>3</th>\n",
       "      <td>Progressive</td>\n",
       "      <td>Conservative</td>\n",
       "      <td>-41.098536</td>\n",
       "      <td>-1.279146</td>\n",
       "    </tr>\n",
       "    <tr>\n",
       "      <th>4</th>\n",
       "      <td>Progressive</td>\n",
       "      <td>Conservative</td>\n",
       "      <td>-34.391038</td>\n",
       "      <td>-19.695439</td>\n",
       "    </tr>\n",
       "    <tr>\n",
       "      <th>...</th>\n",
       "      <td>...</td>\n",
       "      <td>...</td>\n",
       "      <td>...</td>\n",
       "      <td>...</td>\n",
       "    </tr>\n",
       "    <tr>\n",
       "      <th>182</th>\n",
       "      <td>Conservative</td>\n",
       "      <td>Progressive</td>\n",
       "      <td>60.470223</td>\n",
       "      <td>12.890919</td>\n",
       "    </tr>\n",
       "    <tr>\n",
       "      <th>183</th>\n",
       "      <td>Conservative</td>\n",
       "      <td>Progressive</td>\n",
       "      <td>72.569853</td>\n",
       "      <td>10.845635</td>\n",
       "    </tr>\n",
       "    <tr>\n",
       "      <th>184</th>\n",
       "      <td>Conservative</td>\n",
       "      <td>Progressive</td>\n",
       "      <td>-26.584972</td>\n",
       "      <td>-6.433862</td>\n",
       "    </tr>\n",
       "    <tr>\n",
       "      <th>185</th>\n",
       "      <td>Conservative</td>\n",
       "      <td>Progressive</td>\n",
       "      <td>89.109427</td>\n",
       "      <td>-11.084835</td>\n",
       "    </tr>\n",
       "    <tr>\n",
       "      <th>186</th>\n",
       "      <td>Conservative</td>\n",
       "      <td>Progressive</td>\n",
       "      <td>72.181833</td>\n",
       "      <td>-12.459457</td>\n",
       "    </tr>\n",
       "  </tbody>\n",
       "</table>\n",
       "<p>187 rows × 4 columns</p>\n",
       "</div>"
      ],
      "text/plain": [
       "        Candidate       Channel  Sentimental_Title  Sentimental_Comment\n",
       "0     Progressive  Conservative         -41.008209            -9.086078\n",
       "1     Progressive  Conservative         -34.345371           -10.547565\n",
       "2     Progressive  Conservative         -45.388231           -10.973102\n",
       "3     Progressive  Conservative         -41.098536            -1.279146\n",
       "4     Progressive  Conservative         -34.391038           -19.695439\n",
       "..            ...           ...                ...                  ...\n",
       "182  Conservative   Progressive          60.470223            12.890919\n",
       "183  Conservative   Progressive          72.569853            10.845635\n",
       "184  Conservative   Progressive         -26.584972            -6.433862\n",
       "185  Conservative   Progressive          89.109427           -11.084835\n",
       "186  Conservative   Progressive          72.181833           -12.459457\n",
       "\n",
       "[187 rows x 4 columns]"
      ]
     },
     "execution_count": 4,
     "metadata": {},
     "output_type": "execute_result"
    }
   ],
   "source": [
    "df"
   ]
  },
  {
   "cell_type": "code",
   "execution_count": 10,
   "metadata": {},
   "outputs": [
    {
     "name": "stdout",
     "output_type": "stream",
     "text": [
      "Counter({'Conservative': 108, 'Progressive': 79})\n"
     ]
    }
   ],
   "source": [
    "from collections import Counter\n",
    "cand = Counter(df.loc[:,'Candidate'].values)\n",
    "print(cand)"
   ]
  },
  {
   "cell_type": "code",
   "execution_count": 11,
   "metadata": {},
   "outputs": [
    {
     "name": "stdout",
     "output_type": "stream",
     "text": [
      "Counter({'Conservative': 160, 'Progressive': 27})\n"
     ]
    }
   ],
   "source": [
    "ch = Counter(df.loc[:,'Channel'].values)\n",
    "print(ch)"
   ]
  },
  {
   "cell_type": "code",
   "execution_count": null,
   "metadata": {},
   "outputs": [],
   "source": []
  }
 ],
 "metadata": {
  "kernelspec": {
   "display_name": "gpu_jiyeon_py37",
   "language": "python",
   "name": "gpu_jiyeon_py37"
  },
  "language_info": {
   "codemirror_mode": {
    "name": "ipython",
    "version": 3
   },
   "file_extension": ".py",
   "mimetype": "text/x-python",
   "name": "python",
   "nbconvert_exporter": "python",
   "pygments_lexer": "ipython3",
   "version": "3.7.13"
  }
 },
 "nbformat": 4,
 "nbformat_minor": 4
}
